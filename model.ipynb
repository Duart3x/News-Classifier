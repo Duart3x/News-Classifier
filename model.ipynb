{
 "cells": [
  {
   "cell_type": "code",
   "execution_count": 1,
   "metadata": {
    "vscode": {
     "languageId": "bat"
    }
   },
   "outputs": [
    {
     "name": "stdout",
     "output_type": "stream",
     "text": [
      "Collecting deep-translator\n",
      "  Using cached deep_translator-1.11.4-py3-none-any.whl.metadata (30 kB)\n",
      "Collecting beautifulsoup4<5.0.0,>=4.9.1 (from deep-translator)\n",
      "  Using cached beautifulsoup4-4.12.3-py3-none-any.whl.metadata (3.8 kB)\n",
      "Collecting requests<3.0.0,>=2.23.0 (from deep-translator)\n",
      "  Downloading requests-2.32.3-py3-none-any.whl.metadata (4.6 kB)\n",
      "Collecting soupsieve>1.2 (from beautifulsoup4<5.0.0,>=4.9.1->deep-translator)\n",
      "  Using cached soupsieve-2.6-py3-none-any.whl.metadata (4.6 kB)\n",
      "Collecting charset-normalizer<4,>=2 (from requests<3.0.0,>=2.23.0->deep-translator)\n",
      "  Downloading charset_normalizer-3.4.0-cp311-cp311-manylinux_2_17_x86_64.manylinux2014_x86_64.whl.metadata (34 kB)\n",
      "Collecting idna<4,>=2.5 (from requests<3.0.0,>=2.23.0->deep-translator)\n",
      "  Downloading idna-3.10-py3-none-any.whl.metadata (10 kB)\n",
      "Collecting urllib3<3,>=1.21.1 (from requests<3.0.0,>=2.23.0->deep-translator)\n",
      "  Downloading urllib3-2.2.3-py3-none-any.whl.metadata (6.5 kB)\n",
      "Collecting certifi>=2017.4.17 (from requests<3.0.0,>=2.23.0->deep-translator)\n",
      "  Downloading certifi-2024.12.14-py3-none-any.whl.metadata (2.3 kB)\n",
      "Using cached deep_translator-1.11.4-py3-none-any.whl (42 kB)\n",
      "Using cached beautifulsoup4-4.12.3-py3-none-any.whl (147 kB)\n",
      "Downloading requests-2.32.3-py3-none-any.whl (64 kB)\n",
      "Downloading certifi-2024.12.14-py3-none-any.whl (164 kB)\n",
      "Downloading charset_normalizer-3.4.0-cp311-cp311-manylinux_2_17_x86_64.manylinux2014_x86_64.whl (142 kB)\n",
      "Downloading idna-3.10-py3-none-any.whl (70 kB)\n",
      "Using cached soupsieve-2.6-py3-none-any.whl (36 kB)\n",
      "Downloading urllib3-2.2.3-py3-none-any.whl (126 kB)\n",
      "Installing collected packages: urllib3, soupsieve, idna, charset-normalizer, certifi, requests, beautifulsoup4, deep-translator\n",
      "Successfully installed beautifulsoup4-4.12.3 certifi-2024.12.14 charset-normalizer-3.4.0 deep-translator-1.11.4 idna-3.10 requests-2.32.3 soupsieve-2.6 urllib3-2.2.3\n"
     ]
    }
   ],
   "source": [
    "!pip install deep-translator"
   ]
  },
  {
   "cell_type": "code",
   "execution_count": 3,
   "metadata": {},
   "outputs": [],
   "source": [
    "import pandas as pd\n",
    "from nltk.sentiment.vader import SentimentIntensityAnalyzer\n",
    "from nltk.tokenize import word_tokenize, sent_tokenize\n",
    "from nltk.corpus import stopwords\n",
    "from nltk.stem import WordNetLemmatizer\n",
    "import nltk\n",
    "from deep_translator import GoogleTranslator"
   ]
  },
  {
   "cell_type": "code",
   "execution_count": 23,
   "metadata": {},
   "outputs": [
    {
     "name": "stderr",
     "output_type": "stream",
     "text": [
      "[nltk_data] Downloading package vader_lexicon to\n",
      "[nltk_data]     /home/duart3x/nltk_data...\n",
      "[nltk_data]   Package vader_lexicon is already up-to-date!\n",
      "[nltk_data] Downloading package punkt_tab to\n",
      "[nltk_data]     /home/duart3x/nltk_data...\n",
      "[nltk_data]   Package punkt_tab is already up-to-date!\n",
      "[nltk_data] Downloading package stopwords to\n",
      "[nltk_data]     /home/duart3x/nltk_data...\n",
      "[nltk_data]   Package stopwords is already up-to-date!\n",
      "[nltk_data] Downloading package wordnet to /home/duart3x/nltk_data...\n",
      "[nltk_data]   Package wordnet is already up-to-date!\n",
      "[nltk_data] Downloading package averaged_perceptron_tagger_eng to\n",
      "[nltk_data]     /home/duart3x/nltk_data...\n",
      "[nltk_data]   Unzipping taggers/averaged_perceptron_tagger_eng.zip.\n"
     ]
    },
    {
     "data": {
      "text/plain": [
       "True"
      ]
     },
     "execution_count": 23,
     "metadata": {},
     "output_type": "execute_result"
    }
   ],
   "source": [
    "nltk.download('vader_lexicon')\n",
    "nltk.download('punkt_tab')\n",
    "nltk.download('stopwords')\n",
    "nltk.download('wordnet')\n",
    "nltk.download('averaged_perceptron_tagger_eng')"
   ]
  },
  {
   "cell_type": "code",
   "execution_count": 5,
   "metadata": {},
   "outputs": [],
   "source": [
    "# Step 2: Load the dataset\n",
    "file_path = \"results-publico-translated.csv\"\n",
    "columns = [\"term\", \"url\", \"text\", \"title\", \"translated_text\"]\n",
    "df = pd.read_csv(file_path, header=1,  names=columns)"
   ]
  },
  {
   "cell_type": "code",
   "execution_count": 6,
   "metadata": {},
   "outputs": [
    {
     "name": "stdout",
     "output_type": "stream",
     "text": [
      "Missing values found. Dropping rows with missing values.\n"
     ]
    }
   ],
   "source": [
    "# Check for missing values; address any missing data if necessary\n",
    "has_missing = df.isnull().values.any()\n",
    "if has_missing:\n",
    "    print('Missing values found. Dropping rows with missing values.')\n",
    "    df.dropna(inplace=True)\n",
    "else:\n",
    "    print('No missing values found.')\n",
    "df['text'] = df['text'].str.strip().str.lower()\n",
    "df.drop_duplicates(subset='text', keep='first', inplace=True)"
   ]
  },
  {
   "cell_type": "code",
   "execution_count": 7,
   "metadata": {},
   "outputs": [
    {
     "data": {
      "text/html": [
       "<div>\n",
       "<style scoped>\n",
       "    .dataframe tbody tr th:only-of-type {\n",
       "        vertical-align: middle;\n",
       "    }\n",
       "\n",
       "    .dataframe tbody tr th {\n",
       "        vertical-align: top;\n",
       "    }\n",
       "\n",
       "    .dataframe thead th {\n",
       "        text-align: right;\n",
       "    }\n",
       "</style>\n",
       "<table border=\"1\" class=\"dataframe\">\n",
       "  <thead>\n",
       "    <tr style=\"text-align: right;\">\n",
       "      <th></th>\n",
       "      <th>term</th>\n",
       "      <th>url</th>\n",
       "      <th>text</th>\n",
       "      <th>title</th>\n",
       "      <th>translated_text</th>\n",
       "      <th>tokens</th>\n",
       "      <th>cleaned_text</th>\n",
       "    </tr>\n",
       "  </thead>\n",
       "  <tbody>\n",
       "    <tr>\n",
       "      <th>0</th>\n",
       "      <td>ABEL BAPTISTA</td>\n",
       "      <td>https://arquivo.pt/noFrame/replay/200802290423...</td>\n",
       "      <td>a proposta, que será apresentada na assembleia...</td>\n",
       "      <td>PÚBLICO.PT</td>\n",
       "      <td>The proposal, which will be presented at the g...</td>\n",
       "      <td>[proposal, presented, general, shareholder, me...</td>\n",
       "      <td>proposal presented general shareholder meeting...</td>\n",
       "    </tr>\n",
       "    <tr>\n",
       "      <th>1</th>\n",
       "      <td>ABEL BAPTISTA</td>\n",
       "      <td>https://arquivo.pt/noFrame/replay/200802290428...</td>\n",
       "      <td>na comissão executiva desde o início do ano, h...</td>\n",
       "      <td>PÚBLICO.PT</td>\n",
       "      <td>On the executive committee since the beginning...</td>\n",
       "      <td>[executive, committee, since, beginning, henri...</td>\n",
       "      <td>executive committee since beginning henrique g...</td>\n",
       "    </tr>\n",
       "    <tr>\n",
       "      <th>2</th>\n",
       "      <td>ABEL BAPTISTA</td>\n",
       "      <td>https://arquivo.pt/noFrame/replay/200503240713...</td>\n",
       "      <td>público - edição impressa - destaque  director...</td>\n",
       "      <td>PUBLICO.PT</td>\n",
       "      <td>Público - printed edition - featured director:...</td>\n",
       "      <td>[público, printed, edition, featured, director...</td>\n",
       "      <td>público printed edition featured director josé...</td>\n",
       "    </tr>\n",
       "    <tr>\n",
       "      <th>3</th>\n",
       "      <td>ABEL BAPTISTA</td>\n",
       "      <td>https://arquivo.pt/noFrame/replay/200802290434...</td>\n",
       "      <td>miguel angel garçon, da telefónica, disse à lu...</td>\n",
       "      <td>PÚBLICO.PT</td>\n",
       "      <td>Miguel Angel Garçon, from Telefónica, told Lus...</td>\n",
       "      <td>[miguel, angel, garçon, telefónica, told, lusa...</td>\n",
       "      <td>miguel angel garçon telefónica told lusa compa...</td>\n",
       "    </tr>\n",
       "    <tr>\n",
       "      <th>4</th>\n",
       "      <td>ABEL BAPTISTA</td>\n",
       "      <td>https://arquivo.pt/noFrame/replay/200503241002...</td>\n",
       "      <td>público - edição impressa - destaque  director...</td>\n",
       "      <td>PUBLICO.PT</td>\n",
       "      <td>public - print edition - highlights director: ...</td>\n",
       "      <td>[public, print, edition, highlight, director, ...</td>\n",
       "      <td>public print edition highlight director josé m...</td>\n",
       "    </tr>\n",
       "  </tbody>\n",
       "</table>\n",
       "</div>"
      ],
      "text/plain": [
       "            term                                                url  \\\n",
       "0  ABEL BAPTISTA  https://arquivo.pt/noFrame/replay/200802290423...   \n",
       "1  ABEL BAPTISTA  https://arquivo.pt/noFrame/replay/200802290428...   \n",
       "2  ABEL BAPTISTA  https://arquivo.pt/noFrame/replay/200503240713...   \n",
       "3  ABEL BAPTISTA  https://arquivo.pt/noFrame/replay/200802290434...   \n",
       "4  ABEL BAPTISTA  https://arquivo.pt/noFrame/replay/200503241002...   \n",
       "\n",
       "                                                text       title  \\\n",
       "0  a proposta, que será apresentada na assembleia...  PÚBLICO.PT   \n",
       "1  na comissão executiva desde o início do ano, h...  PÚBLICO.PT   \n",
       "2  público - edição impressa - destaque  director...  PUBLICO.PT   \n",
       "3  miguel angel garçon, da telefónica, disse à lu...  PÚBLICO.PT   \n",
       "4  público - edição impressa - destaque  director...  PUBLICO.PT   \n",
       "\n",
       "                                     translated_text  \\\n",
       "0  The proposal, which will be presented at the g...   \n",
       "1  On the executive committee since the beginning...   \n",
       "2  Público - printed edition - featured director:...   \n",
       "3  Miguel Angel Garçon, from Telefónica, told Lus...   \n",
       "4  public - print edition - highlights director: ...   \n",
       "\n",
       "                                              tokens  \\\n",
       "0  [proposal, presented, general, shareholder, me...   \n",
       "1  [executive, committee, since, beginning, henri...   \n",
       "2  [público, printed, edition, featured, director...   \n",
       "3  [miguel, angel, garçon, telefónica, told, lusa...   \n",
       "4  [public, print, edition, highlight, director, ...   \n",
       "\n",
       "                                        cleaned_text  \n",
       "0  proposal presented general shareholder meeting...  \n",
       "1  executive committee since beginning henrique g...  \n",
       "2  público printed edition featured director josé...  \n",
       "3  miguel angel garçon telefónica told lusa compa...  \n",
       "4  public print edition highlight director josé m...  "
      ]
     },
     "execution_count": 7,
     "metadata": {},
     "output_type": "execute_result"
    }
   ],
   "source": [
    "lemmatizer = WordNetLemmatizer()\n",
    "\n",
    "stop_words = set(stopwords.words('english'))\n",
    "\n",
    "stop_words.add('goes')\n",
    "stop_words.add('newspaper')\n",
    "stop_words.add('journalist')\n",
    "stop_words.add('journalists')\n",
    "stop_words.add('pt')\n",
    "stop_words.add('rsf')\n",
    "stop_words.add('aacs')\n",
    "stop_words.add('still')\n",
    "stop_words.add('year')\n",
    "stop_words.add('today')\n",
    "stop_words.add('day')\n",
    "stop_words.add('to have')\n",
    "stop_words.add('about')\n",
    "stop_words.add('hurts')\n",
    "stop_words.add('yesterday')\n",
    "stop_words.add('where')\n",
    "stop_words.add('one')\n",
    "stop_words.add('two')\n",
    "stop_words.add('three')\n",
    "stop_words.add('four')\n",
    "stop_words.add('five')\n",
    "stop_words.add('six')\n",
    "stop_words.add('seven')\n",
    "stop_words.add('eight')\n",
    "stop_words.add('nine')\n",
    "stop_words.add('ten')\n",
    "stop_words.add('because')\n",
    "stop_words.add('years')\n",
    "stop_words.add('said')\n",
    "\n",
    "# Tokenize the text\n",
    "def tokenize(text):\n",
    "    tokens = word_tokenize(text, language='english')\n",
    "    for token in tokens:\n",
    "        lword = token.lower()\n",
    "        if lword.isalpha() and (lword not in stop_words) and (len(lword) > 2):\n",
    "            lemWord = lemmatizer.lemmatize(lword)\n",
    "            yield lemWord \n",
    "            \n",
    "\n",
    "# Step 3: Tokenize the text\n",
    "df['tokens'] = df['translated_text'].apply(lambda x: [t for t in tokenize(x)])\n",
    "# join the tokens back into a single string\n",
    "df['cleaned_text'] = df['tokens'].apply(lambda x: ' '.join(x))\n",
    "df.head()"
   ]
  },
  {
   "cell_type": "code",
   "execution_count": 9,
   "metadata": {},
   "outputs": [
    {
     "name": "stdout",
     "output_type": "stream",
     "text": [
      "                                                text  compound_score sentiment\n",
      "0  a proposta, que será apresentada na assembleia...          0.7096  positive\n",
      "1  na comissão executiva desde o início do ano, h...          0.9883  positive\n",
      "2  público - edição impressa - destaque  director...          0.9413  positive\n",
      "3  miguel angel garçon, da telefónica, disse à lu...          0.9423  positive\n",
      "4  público - edição impressa - destaque  director...         -0.8827  negative\n"
     ]
    }
   ],
   "source": [
    "# Step 3: Initialize VADER\n",
    "analyzer = SentimentIntensityAnalyzer()\n",
    "\n",
    "# Step 4: Analyze Sentiment\n",
    "def analyze_sentiment(text):\n",
    "    scores = analyzer.polarity_scores(text)\n",
    "    return scores['compound']\n",
    "\n",
    "df['compound_score'] = df['cleaned_text'].apply(analyze_sentiment)\n",
    "\n",
    "# Step 5: Map Compound Scores to Sentiment Labels\n",
    "def map_sentiment(compound):\n",
    "    return \"positive\" if compound > 0 else \"negative\"\n",
    "\n",
    "df['sentiment'] = df['compound_score'].apply(map_sentiment)\n",
    "\n",
    "# Step 6: Save results or preview\n",
    "print(df[['text', 'compound_score', 'sentiment']].head())"
   ]
  },
  {
   "cell_type": "code",
   "execution_count": null,
   "metadata": {},
   "outputs": [
    {
     "data": {
      "image/png": "[encoded data removed]",
      "text/plain": [
       "<Figure size 640x480 with 1 Axes>"
      ]
     },
     "metadata": {},
     "output_type": "display_data"
    }
   ],
   "source": [
    "import matplotlib.pyplot as plt\n",
    "\n",
    "# plot the sentiment distribution\n",
    "fig = df['sentiment'].value_counts().plot(kind=\"pie\",  autopct='%1.1f%%')\n",
    "fig.set_title('Sentiment Distribution')\n",
    "fig.set_ylabel('')\n",
    "fig.set_xlabel('')\n",
    "fig.legend(labels=['Positive', 'Negative'])\n",
    "plt.show()"
   ]
  },
  {
   "cell_type": "code",
   "execution_count": 34,
   "metadata": {},
   "outputs": [
    {
     "name": "stdout",
     "output_type": "stream",
     "text": [
      "                                              tokens  \\\n",
      "0  [proposal, presented, general, shareholder, me...   \n",
      "1  [executive, committee, since, beginning, henri...   \n",
      "2  [público, printed, edition, featured, director...   \n",
      "3  [miguel, angel, garçon, telefónica, told, lusa...   \n",
      "4  [public, print, edition, highlight, director, ...   \n",
      "\n",
      "                                        people_names  \n",
      "0                                                 []  \n",
      "1                                                 []  \n",
      "2  [JOSÉ SÓCRATES, MANUEL MARIA CARRILHO, MARIA C...  \n",
      "3                                                 []  \n",
      "4  [JOSÉ SÓCRATES, MANUEL MARIA CARRILHO, MARIA C...  \n"
     ]
    }
   ],
   "source": [
    "# Get the most common Names of People in negative and positive texts\n",
    "from collections import Counter\n",
    "import json\n",
    "\n",
    "with open(\"./Legislaturas/X.json\") as json_file:\n",
    "    legislature_json = json.load(json_file)\n",
    "\n",
    "legislature = legislature_json[\"Legislatura\"]\n",
    "\n",
    "l_init_date = legislature[\"DetalheLegislatura\"][\"dtini\"]  # 2005-03-10\n",
    "l_end_date = legislature[\"DetalheLegislatura\"][\"dtfim\"]  # 2009-10-14\n",
    "\n",
    "deputies = legislature[\"Deputados\"][\"pt_ar_wsgode_objectos_DadosDeputadoSearch\"]\n",
    "parties = legislature[\"GruposParlamentares\"][\"pt_gov_ar_objectos_GPOut\"]\n",
    "\n",
    "dp_df = pd.DataFrame(deputies, columns=['depId','depNomeParlamentar'])\n",
    "party_df = pd.DataFrame(parties)\n",
    "\n",
    "def get_people_names(text):\n",
    "    people_names = []\n",
    "    # Do not tokenize\n",
    "    deputies_names = dp_df['depNomeParlamentar'].values\n",
    "    for name in deputies_names:\n",
    "        if name.lower() in text:\n",
    "            people_names.append(name)\n",
    "\n",
    "    return people_names\n",
    "\n",
    "\n",
    "df['people_names'] = df['text'].apply(get_people_names)\n",
    "print(df[['tokens', 'people_names']].head())"
   ]
  },
  {
   "cell_type": "code",
   "execution_count": 35,
   "metadata": {},
   "outputs": [
    {
     "name": "stdout",
     "output_type": "stream",
     "text": [
      "Most common names of people in positive texts: [('FERRO RODRIGUES', 14), ('MANUELA DE MELO', 14), ('VIEIRA DA SILVA', 14), ('ANTÓNIO VITORINO', 13), ('AUGUSTO SANTOS SILVA', 13)]\n",
      "Most common names of people in negative texts: [('EUGÉNIO ROSA', 7), ('JOSÉ SÓCRATES', 4), ('FERRO RODRIGUES', 4), ('ALBERTO COSTA', 3), ('ANTÓNIO VITORINO', 3)]\n"
     ]
    }
   ],
   "source": [
    "# Get the most common names of people in positive and negative texts\n",
    "positive_people_names = [name for names in df[df['sentiment'] == 'positive']['people_names'] for name in names]\n",
    "negative_people_names = [name for names in df[df['sentiment'] == 'negative']['people_names'] for name in names]\n",
    "\n",
    "positive_people_names_counter = Counter(positive_people_names)\n",
    "negative_people_names_counter = Counter(negative_people_names)\n",
    "\n",
    "print('Most common names of people in positive texts:', positive_people_names_counter.most_common(5))\n",
    "print('Most common names of people in negative texts:', negative_people_names_counter.most_common(5))"
   ]
  }
 ],
 "metadata": {
  "kernelspec": {
   "display_name": "aa",
   "language": "python",
   "name": "python3"
  },
  "language_info": {
   "codemirror_mode": {
    "name": "ipython",
    "version": 3
   },
   "file_extension": ".py",
   "mimetype": "text/x-python",
   "name": "python",
   "nbconvert_exporter": "python",
   "pygments_lexer": "ipython3",
   "version": "3.11.10"
  }
 },
 "nbformat": 4,
 "nbformat_minor": 2
}
