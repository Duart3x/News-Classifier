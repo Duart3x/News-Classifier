{
 "cells": [
  {
   "cell_type": "markdown",
   "metadata": {},
   "source": [
    "# Classify news by political spectrum and show trends in newspapers and journalists by political spectrum\n",
    "Classify news within the political spectrum. (How to reach this classification? News favors more libertarian, authoritarian, free-market or closed-market policies)\n",
    "\n",
    "Show newspapers, within the political spectrum, what their trend is based on the number of news articles and their textual sentiment (positive, neutral or negative).\n",
    "\n",
    "Show the same information by journalist.\n",
    "\n",
    "## How to reach this classification?\n",
    "- Get the topic of the news.\n",
    "- Try to get who is the main character of the news. \n",
    "- If the main character is a politician, try to get the political party of the politician.\n",
    "- If the sentiment of the news is positive, neutral or negative, try to get the political spectrum of the sentiment.\n"
   ]
  },
  {
   "cell_type": "markdown",
   "metadata": {},
   "source": [
    "<img src=\"./images/political_spectrum.png\" alt=\"political_spectrum\" width=\"400\"/>\n",
    "<img src=\"./images/PT_Political_Compass.png\" alt=\"PT_Political_Compass\" width=\"550\"/>\n"
   ]
  },
  {
   "cell_type": "markdown",
   "metadata": {},
   "source": [
    "## Similar Works:\n",
    "- [politiquices](https://github.com/politiquices) - [2021 arquivo awards](https://sobre.arquivo.pt/pt/conheca-os-vencedores-do-premio-arquivo-pt-2021/), 2nd place \n",
    "\n",
    "## Data Sources:\n",
    "- [arquivo.pt](https://arquivo.pt/)\n",
    "  - [Público](https://www.publico.pt/) \n",
    "  - [Jornal de Notícias](https://www.jn.pt/) \n",
    "  - [Diário de Notícias](https://www.dn.pt/)\n",
    "  - [Expresso](https://expresso.pt/)\n",
    "  - [Observador](https://observador.pt/)\n",
    "  - [Sapo](https://www.sapo.pt/)\n",
    "  - [RTP](https://www.rtp.pt/)\n",
    "  - [TVI](https://tvi.iol.pt/)\n",
    "  - [Correio da Manhã](https://www.cmjornal.pt/)\n",
    "  - [Jornal i](https://ionline.sapo.pt/)\n",
    "  - [Sol](https://sol.sapo.pt/)\n",
    "  - [Jornal Económico](https://jornaleconomico.sapo.pt/)\n",
    "  - [Notícias ao Minuto](https://www.noticiasaominuto.com/)\n",
    "  - [SIC Notícias](https://sicnoticias.pt/)\n",
    "  - [Renascença](https://rr.sapo.pt/)\n",
    "  - [Jornal de Negócios](https://www.jornaldenegocios.pt/)\n",
    "  - [Visão](https://visao.sapo.pt/) \n",
    "  - [Sábado](https://www.sabado.pt/) \n",
    "- [wikidata.org](https://www.wikidata.org/)\n",
    "- [dados.gov.pt](https://dados.gov.pt/)\n",
    "- [parlamento.pt](https://www.parlamento.pt/Cidadania/Paginas/DadosAbertos.aspx)\n"
   ]
  },
  {
   "cell_type": "code",
   "execution_count": null,
   "metadata": {
    "vscode": {
     "languageId": "plaintext"
    }
   },
   "outputs": [],
   "source": []
  }
 ],
 "metadata": {
  "language_info": {
   "name": "python"
  }
 },
 "nbformat": 4,
 "nbformat_minor": 2
}
